{
  "nbformat": 4,
  "nbformat_minor": 0,
  "metadata": {
    "colab": {
      "provenance": [],
      "authorship_tag": "ABX9TyN9lm1VPAceYc1R0J9q1SjH",
      "include_colab_link": true
    },
    "kernelspec": {
      "name": "python3",
      "display_name": "Python 3"
    },
    "language_info": {
      "name": "python"
    }
  },
  "cells": [
    {
      "cell_type": "markdown",
      "metadata": {
        "id": "view-in-github",
        "colab_type": "text"
      },
      "source": [
        "<a href=\"https://colab.research.google.com/github/fMurugi/complete-neural-network-course/blob/main/learn_pytorch.ipynb\" target=\"_parent\"><img src=\"https://colab.research.google.com/assets/colab-badge.svg\" alt=\"Open In Colab\"/></a>"
      ]
    },
    {
      "cell_type": "code",
      "execution_count": 1,
      "metadata": {
        "id": "ncRpX4iodKK-"
      },
      "outputs": [],
      "source": [
        "import torch"
      ]
    },
    {
      "cell_type": "code",
      "source": [
        "b = torch.tensor([2,3,4])\n",
        "print(b)"
      ],
      "metadata": {
        "colab": {
          "base_uri": "https://localhost:8080/"
        },
        "id": "9MCKfDO1dNwf",
        "outputId": "e027f80f-66b6-45b7-c8ae-c9af0d632375"
      },
      "execution_count": 2,
      "outputs": [
        {
          "output_type": "stream",
          "name": "stdout",
          "text": [
            "tensor([2, 3, 4])\n"
          ]
        }
      ]
    },
    {
      "cell_type": "code",
      "source": [
        "b.shape"
      ],
      "metadata": {
        "colab": {
          "base_uri": "https://localhost:8080/"
        },
        "id": "gXRC7CVHdWO4",
        "outputId": "44ad34b5-078c-4910-d5b4-cb4e69193af7"
      },
      "execution_count": 3,
      "outputs": [
        {
          "output_type": "execute_result",
          "data": {
            "text/plain": [
              "torch.Size([3])"
            ]
          },
          "metadata": {},
          "execution_count": 3
        }
      ]
    },
    {
      "cell_type": "code",
      "source": [
        "b.view(-1,1)"
      ],
      "metadata": {
        "colab": {
          "base_uri": "https://localhost:8080/"
        },
        "id": "JnoJnoXQdZLh",
        "outputId": "5fb4c3fb-411c-4e9f-e656-2f1e226fec42"
      },
      "execution_count": 4,
      "outputs": [
        {
          "output_type": "execute_result",
          "data": {
            "text/plain": [
              "tensor([[2],\n",
              "        [3],\n",
              "        [4]])"
            ]
          },
          "metadata": {},
          "execution_count": 4
        }
      ]
    },
    {
      "cell_type": "code",
      "source": [
        "c= torch.tensor([[1,2,3],[4,5,6]])\n",
        "print(c)"
      ],
      "metadata": {
        "colab": {
          "base_uri": "https://localhost:8080/"
        },
        "id": "p_Fx0EeWdoqa",
        "outputId": "a2bd7f5c-b858-4c5b-c7e3-fd43f1c88427"
      },
      "execution_count": 5,
      "outputs": [
        {
          "output_type": "stream",
          "name": "stdout",
          "text": [
            "tensor([[1, 2, 3],\n",
            "        [4, 5, 6]])\n"
          ]
        }
      ]
    },
    {
      "cell_type": "code",
      "source": [
        "c.shape\n",
        "c.view(6) # 1 row by 6 cols\n",
        "c.view(-1,2) # i want to change tje shape to n rows by 2 columns"
      ],
      "metadata": {
        "colab": {
          "base_uri": "https://localhost:8080/"
        },
        "id": "hMMD2V-PdrQl",
        "outputId": "a9bc1492-dda7-4980-ec00-e6c7d2c4a611"
      },
      "execution_count": 6,
      "outputs": [
        {
          "output_type": "execute_result",
          "data": {
            "text/plain": [
              "tensor([[1, 2],\n",
              "        [3, 4],\n",
              "        [5, 6]])"
            ]
          },
          "metadata": {},
          "execution_count": 6
        }
      ]
    },
    {
      "cell_type": "code",
      "source": [
        "# create a 3d tensor\n",
        "d = torch.randn(2,3,4)\n",
        "print(d)\n",
        "print(d.view(2,12))"
      ],
      "metadata": {
        "id": "UnJPICuAeHXl",
        "colab": {
          "base_uri": "https://localhost:8080/"
        },
        "outputId": "182c76d9-2a3a-4b4d-e401-2dd9d35afd9d"
      },
      "execution_count": 7,
      "outputs": [
        {
          "output_type": "stream",
          "name": "stdout",
          "text": [
            "tensor([[[-0.9176,  0.2258,  0.0474,  1.3025],\n",
            "         [ 0.7625,  0.4741, -0.3093, -0.6855],\n",
            "         [-1.8784,  1.4958, -1.0740, -1.3366]],\n",
            "\n",
            "        [[ 0.0808,  2.2064,  0.7452, -1.1585],\n",
            "         [-0.8553, -0.4479,  0.4707, -0.1505],\n",
            "         [ 0.4276, -0.0807,  1.3967, -0.9548]]])\n",
            "tensor([[-0.9176,  0.2258,  0.0474,  1.3025,  0.7625,  0.4741, -0.3093, -0.6855,\n",
            "         -1.8784,  1.4958, -1.0740, -1.3366],\n",
            "        [ 0.0808,  2.2064,  0.7452, -1.1585, -0.8553, -0.4479,  0.4707, -0.1505,\n",
            "          0.4276, -0.0807,  1.3967, -0.9548]])\n"
          ]
        }
      ]
    },
    {
      "cell_type": "code",
      "source": [
        "#create a matrix of random numbers btn 0 and 1\n",
        "r1 =torch.rand(4,4)\n",
        "print(r1)"
      ],
      "metadata": {
        "colab": {
          "base_uri": "https://localhost:8080/"
        },
        "id": "Sq2Mz73fKVv9",
        "outputId": "b3da943a-179d-4b18-c38a-de25a1d4b0be"
      },
      "execution_count": 8,
      "outputs": [
        {
          "output_type": "stream",
          "name": "stdout",
          "text": [
            "tensor([[0.2680, 0.0607, 0.8573, 0.4914],\n",
            "        [0.9563, 0.0734, 0.4707, 0.2145],\n",
            "        [0.5031, 0.3445, 0.2905, 0.7859],\n",
            "        [0.4677, 0.9824, 0.5405, 0.2399]])\n"
          ]
        }
      ]
    },
    {
      "cell_type": "code",
      "source": [
        "#create a matrix of random numbers from a normal distribution with mean 0 and variance 1\n",
        "r2 = torch.randn(4,4)\n",
        "print(r2)"
      ],
      "metadata": {
        "colab": {
          "base_uri": "https://localhost:8080/"
        },
        "id": "m7vj8ShSKxRt",
        "outputId": "0295e4b4-2396-44f6-87df-0721c7ce691c"
      },
      "execution_count": 9,
      "outputs": [
        {
          "output_type": "stream",
          "name": "stdout",
          "text": [
            "tensor([[ 2.3231, -0.9414, -1.4617,  0.2335],\n",
            "        [-0.2451, -0.5499, -0.3668,  0.0987],\n",
            "        [ 0.4367, -1.9768, -1.3397, -0.7864],\n",
            "        [-1.4837,  1.2151,  0.4722,  1.7268]])\n"
          ]
        }
      ]
    },
    {
      "cell_type": "code",
      "source": [
        "r2.add_(r1) #modifying r2 in place\n",
        "print(r2)"
      ],
      "metadata": {
        "colab": {
          "base_uri": "https://localhost:8080/"
        },
        "id": "i4DsjjCyLWn0",
        "outputId": "03414962-648b-4ed4-fe28-a6b81a4461b4"
      },
      "execution_count": 10,
      "outputs": [
        {
          "output_type": "stream",
          "name": "stdout",
          "text": [
            "tensor([[ 2.5911e+00, -8.8072e-01, -6.0437e-01,  7.2489e-01],\n",
            "        [ 7.1127e-01, -4.7645e-01,  1.0395e-01,  3.1320e-01],\n",
            "        [ 9.3981e-01, -1.6324e+00, -1.0492e+00, -4.5747e-04],\n",
            "        [-1.0160e+00,  2.1975e+00,  1.0127e+00,  1.9667e+00]])\n"
          ]
        }
      ]
    },
    {
      "cell_type": "code",
      "source": [
        "print(r2[:,1])"
      ],
      "metadata": {
        "colab": {
          "base_uri": "https://localhost:8080/"
        },
        "id": "E_8ze3-lMQfr",
        "outputId": "c78e1a2e-c733-47d7-9b17-edf39699f59e"
      },
      "execution_count": 11,
      "outputs": [
        {
          "output_type": "stream",
          "name": "stdout",
          "text": [
            "tensor([-0.8807, -0.4765, -1.6324,  2.1975])\n"
          ]
        }
      ]
    },
    {
      "cell_type": "code",
      "source": [
        "import numpy as np"
      ],
      "metadata": {
        "id": "3jBpzXghM-gr"
      },
      "execution_count": 12,
      "outputs": []
    },
    {
      "cell_type": "code",
      "source": [
        "a = np.ones(5)\n",
        "a"
      ],
      "metadata": {
        "colab": {
          "base_uri": "https://localhost:8080/"
        },
        "id": "wNSOM3mNNB0G",
        "outputId": "9dcc31ec-7083-4299-a42f-5173087c5093"
      },
      "execution_count": 13,
      "outputs": [
        {
          "output_type": "execute_result",
          "data": {
            "text/plain": [
              "array([1., 1., 1., 1., 1.])"
            ]
          },
          "metadata": {},
          "execution_count": 13
        }
      ]
    },
    {
      "cell_type": "code",
      "source": [
        "b = torch.from_numpy(a)\n",
        "print(b)"
      ],
      "metadata": {
        "colab": {
          "base_uri": "https://localhost:8080/"
        },
        "id": "LRYRVhmgN_YI",
        "outputId": "31bd6210-b75a-4f5c-ad42-c999cd17e08a"
      },
      "execution_count": 14,
      "outputs": [
        {
          "output_type": "stream",
          "name": "stdout",
          "text": [
            "tensor([1., 1., 1., 1., 1.], dtype=torch.float64)\n"
          ]
        }
      ]
    },
    {
      "cell_type": "code",
      "source": [
        "np.add(a,1,out=a)\n",
        "print(a)"
      ],
      "metadata": {
        "colab": {
          "base_uri": "https://localhost:8080/"
        },
        "id": "HExZoGxIOC3T",
        "outputId": "e4ee75ec-8ef8-4b4c-8aa9-aa6841649427"
      },
      "execution_count": 15,
      "outputs": [
        {
          "output_type": "stream",
          "name": "stdout",
          "text": [
            "[2. 2. 2. 2. 2.]\n"
          ]
        }
      ]
    },
    {
      "cell_type": "markdown",
      "source": [
        "Tensor concatenation"
      ],
      "metadata": {
        "id": "fe9-DlrhPLSo"
      }
    },
    {
      "cell_type": "code",
      "source": [],
      "metadata": {
        "id": "hYuByt_wPKGo"
      },
      "execution_count": 15,
      "outputs": []
    },
    {
      "cell_type": "markdown",
      "source": [
        "AutoGrad"
      ],
      "metadata": {
        "id": "0mNngFwGQPVr"
      }
    },
    {
      "cell_type": "markdown",
      "source": [
        "if you want to keep track of how tensor object was created you need requires_grad set to true.\n",
        "Then you can create gradient in respect to the objects/variables"
      ],
      "metadata": {
        "id": "kSLwYy2k1Q7n"
      }
    },
    {
      "cell_type": "code",
      "source": [
        "x = torch.tensor([1,2,3],dtype=torch.float32,requires_grad=True)\n",
        "y = torch.tensor([3.,4.,5.],requires_grad=True)\n",
        "z=x+y\n",
        "print(z)\n",
        "print(z.grad_fn)"
      ],
      "metadata": {
        "colab": {
          "base_uri": "https://localhost:8080/"
        },
        "id": "Dx4o4-4LQSNF",
        "outputId": "3de367a5-5eca-4edf-e019-ac43926af562"
      },
      "execution_count": 19,
      "outputs": [
        {
          "output_type": "stream",
          "name": "stdout",
          "text": [
            "tensor([4., 6., 8.], grad_fn=<AddBackward0>)\n",
            "<AddBackward0 object at 0x7ca48ff19ab0>\n"
          ]
        }
      ]
    },
    {
      "cell_type": "code",
      "source": [
        "s= z.sum()\n",
        "print(s)\n",
        "print(s.grad_fn)"
      ],
      "metadata": {
        "colab": {
          "base_uri": "https://localhost:8080/"
        },
        "id": "e8NXl74C1ADr",
        "outputId": "bec3ff42-53da-4bee-d667-899ed8a9e36d"
      },
      "execution_count": 21,
      "outputs": [
        {
          "output_type": "stream",
          "name": "stdout",
          "text": [
            "tensor(18., grad_fn=<SumBackward0>)\n",
            "<SumBackward0 object at 0x7ca3b029d780>\n"
          ]
        }
      ]
    },
    {
      "cell_type": "code",
      "source": [
        "s.backward()\n",
        "print(x.grad)"
      ],
      "metadata": {
        "colab": {
          "base_uri": "https://localhost:8080/"
        },
        "id": "Jd29Caga19hC",
        "outputId": "0f75bd91-98a0-4ede-a3a7-44e8b57cef09"
      },
      "execution_count": 22,
      "outputs": [
        {
          "output_type": "stream",
          "name": "stdout",
          "text": [
            "tensor([1., 1., 1.])\n"
          ]
        }
      ]
    },
    {
      "cell_type": "code",
      "source": [
        "# you can detach a tensor from its history of computation"
      ],
      "metadata": {
        "id": "nu8kuBTs3Uf3"
      },
      "execution_count": 23,
      "outputs": []
    },
    {
      "cell_type": "code",
      "source": [
        "#you can also stop autograd from tracking history on tensors. it is useful on transfer learning"
      ],
      "metadata": {
        "id": "eKqKwefo3fhh"
      },
      "execution_count": null,
      "outputs": []
    },
    {
      "cell_type": "code",
      "source": [],
      "metadata": {
        "id": "JOVgff0V3-LE"
      },
      "execution_count": null,
      "outputs": []
    },
    {
      "cell_type": "markdown",
      "source": [
        "Loss functions in pytorch"
      ],
      "metadata": {
        "id": "0UytehgT3-zi"
      }
    },
    {
      "cell_type": "code",
      "source": [
        "import torch\n",
        "import torch.nn as nn"
      ],
      "metadata": {
        "id": "bP_Ddn2g4DQm"
      },
      "execution_count": 24,
      "outputs": []
    },
    {
      "cell_type": "code",
      "source": [
        "prediction = torch.randn(4,5)"
      ],
      "metadata": {
        "id": "RGFrIDC44bCR"
      },
      "execution_count": 25,
      "outputs": []
    },
    {
      "cell_type": "code",
      "source": [
        "label = torch.randn(4,5)"
      ],
      "metadata": {
        "id": "at_yVAOR4kgv"
      },
      "execution_count": 26,
      "outputs": []
    },
    {
      "cell_type": "code",
      "source": [
        "mse = nn.MSELoss(reduction='mean')"
      ],
      "metadata": {
        "id": "HbkZf3qq5mSs"
      },
      "execution_count": 31,
      "outputs": []
    },
    {
      "cell_type": "code",
      "source": [
        "loss = mse(prediction,label)"
      ],
      "metadata": {
        "id": "_CyQ5tjA6Ca5"
      },
      "execution_count": 32,
      "outputs": []
    },
    {
      "cell_type": "code",
      "source": [
        "loss"
      ],
      "metadata": {
        "colab": {
          "base_uri": "https://localhost:8080/"
        },
        "id": "IMbSnORN6Gt7",
        "outputId": "4cfd15e8-d19d-420d-c9c5-3cd564d24f6f"
      },
      "execution_count": 33,
      "outputs": [
        {
          "output_type": "execute_result",
          "data": {
            "text/plain": [
              "tensor(1.8037)"
            ]
          },
          "metadata": {},
          "execution_count": 33
        }
      ]
    },
    {
      "cell_type": "code",
      "source": [
        "((prediction-label)**2).mean() #implementation of MSE"
      ],
      "metadata": {
        "colab": {
          "base_uri": "https://localhost:8080/"
        },
        "id": "guDv8h-m6loU",
        "outputId": "41ae286c-647b-4fd4-fd84-6e3674b2713a"
      },
      "execution_count": 36,
      "outputs": [
        {
          "output_type": "execute_result",
          "data": {
            "text/plain": [
              "tensor(1.8037)"
            ]
          },
          "metadata": {},
          "execution_count": 36
        }
      ]
    },
    {
      "cell_type": "markdown",
      "source": [
        "Binary Cross Entropy with sigmoid fn"
      ],
      "metadata": {
        "id": "NGMsOsim6-Ng"
      }
    },
    {
      "cell_type": "code",
      "source": [
        "prediction"
      ],
      "metadata": {
        "colab": {
          "base_uri": "https://localhost:8080/"
        },
        "id": "FVsJrW1J6z_4",
        "outputId": "55989190-a586-4c81-8b3a-1a17233ce0a0"
      },
      "execution_count": 38,
      "outputs": [
        {
          "output_type": "execute_result",
          "data": {
            "text/plain": [
              "tensor([[-2.0730e-01, -2.5479e-01,  3.6638e-01, -1.8112e+00,  1.1963e-02],\n",
              "        [ 7.0848e-01, -6.7240e-01, -5.0439e-01,  1.5985e+00, -1.8195e-03],\n",
              "        [ 1.7767e+00,  5.1060e-01,  1.0014e+00,  4.2208e-01, -1.2883e-01],\n",
              "        [-1.9693e+00,  8.8629e-01,  1.4834e+00, -1.4580e+00,  8.8723e-01]])"
            ]
          },
          "metadata": {},
          "execution_count": 38
        }
      ]
    },
    {
      "cell_type": "code",
      "source": [
        "label = torch.zeros(4,5).random_(0,2)\n",
        "label"
      ],
      "metadata": {
        "colab": {
          "base_uri": "https://localhost:8080/"
        },
        "id": "VnKjUE5K8dtK",
        "outputId": "4886b492-415f-4211-fb25-fa4f4d3238e8"
      },
      "execution_count": 40,
      "outputs": [
        {
          "output_type": "execute_result",
          "data": {
            "text/plain": [
              "tensor([[0., 0., 1., 0., 0.],\n",
              "        [1., 1., 1., 1., 0.],\n",
              "        [1., 0., 0., 0., 1.],\n",
              "        [0., 1., 0., 1., 0.]])"
            ]
          },
          "metadata": {},
          "execution_count": 40
        }
      ]
    },
    {
      "cell_type": "code",
      "source": [
        "sigmoid = nn.Sigmoid()\n"
      ],
      "metadata": {
        "id": "ROlnUEJU8oOc"
      },
      "execution_count": 41,
      "outputs": []
    },
    {
      "cell_type": "code",
      "source": [
        "bce=nn.BCELoss(reduction='mean')"
      ],
      "metadata": {
        "id": "ZVyIqyLiAjBT"
      },
      "execution_count": 42,
      "outputs": []
    },
    {
      "cell_type": "code",
      "source": [],
      "metadata": {
        "id": "r5E32n8YDS37"
      },
      "execution_count": null,
      "outputs": []
    },
    {
      "cell_type": "code",
      "source": [
        "bce(sigmoid(prediction),label)"
      ],
      "metadata": {
        "colab": {
          "base_uri": "https://localhost:8080/"
        },
        "id": "jpMee_N9C3YY",
        "outputId": "a541bec5-1a3f-48fc-812c-082cc210c4ca"
      },
      "execution_count": 46,
      "outputs": [
        {
          "output_type": "execute_result",
          "data": {
            "text/plain": [
              "tensor(0.7542)"
            ]
          },
          "metadata": {},
          "execution_count": 46
        }
      ]
    },
    {
      "cell_type": "markdown",
      "source": [
        "binary cross entropy with logits\n"
      ],
      "metadata": {
        "id": "qJd7RuPLDZ2l"
      }
    },
    {
      "cell_type": "code",
      "source": [
        "bces = bce = nn.BCEWithLogitsLoss(reduction='mean')"
      ],
      "metadata": {
        "id": "bp9ySp9sDcnq"
      },
      "execution_count": 48,
      "outputs": []
    },
    {
      "cell_type": "code",
      "source": [
        "bces(prediction,label)"
      ],
      "metadata": {
        "colab": {
          "base_uri": "https://localhost:8080/"
        },
        "id": "DSXzF73iDlBj",
        "outputId": "785eb4c7-3acb-490e-c1e1-821780bb559d"
      },
      "execution_count": 49,
      "outputs": [
        {
          "output_type": "execute_result",
          "data": {
            "text/plain": [
              "tensor(0.7542)"
            ]
          },
          "metadata": {},
          "execution_count": 49
        }
      ]
    },
    {
      "cell_type": "code",
      "source": [
        "# implement bce manually\n",
        "import numpy as np\n",
        "x = prediction.numpy()\n",
        "y = label.numpy()\n"
      ],
      "metadata": {
        "id": "1o3c5oslD01b"
      },
      "execution_count": 51,
      "outputs": []
    },
    {
      "cell_type": "code",
      "source": [
        "def sigmoid(x):\n",
        "  return 1/ (1+np.exp(-x))"
      ],
      "metadata": {
        "id": "EDShuvAaKIfI"
      },
      "execution_count": 54,
      "outputs": []
    },
    {
      "cell_type": "code",
      "source": [
        "sigmoid(x)"
      ],
      "metadata": {
        "colab": {
          "base_uri": "https://localhost:8080/"
        },
        "id": "bnNUXyiRKQlp",
        "outputId": "abfbd69b-0412-4bfb-b39c-65d15f8726b9"
      },
      "execution_count": 55,
      "outputs": [
        {
          "output_type": "execute_result",
          "data": {
            "text/plain": [
              "array([[0.44835877, 0.43664503, 0.5905845 , 0.1404888 , 0.50299066],\n",
              "       [0.6700662 , 0.33795854, 0.3765107 , 0.8318051 , 0.4995451 ],\n",
              "       [0.85529363, 0.6249465 , 0.7313407 , 0.6039806 , 0.4678367 ],\n",
              "       [0.12246132, 0.7081232 , 0.815088  , 0.1887781 , 0.7083172 ]],\n",
              "      dtype=float32)"
            ]
          },
          "metadata": {},
          "execution_count": 55
        }
      ]
    },
    {
      "cell_type": "code",
      "source": [
        "loss_values =[]\n",
        "x= sigmoid(x) # ensure values are between 0 and 1\n",
        "for i in range(len(y)):\n",
        "  batch_loss=[]\n",
        "  for j in range(len(y[0])):\n",
        "    if y[i][j]==1:\n",
        "      batch_loss.append(-np.log(x[i][j]))\n",
        "    else:\n",
        "      batch_loss.append(-np.log(1-x[i][j]))\n",
        "  loss_values.append(batch_loss)\n",
        "print(np.mean(loss_values))"
      ],
      "metadata": {
        "colab": {
          "base_uri": "https://localhost:8080/"
        },
        "id": "I0ZtXe9TFTyg",
        "outputId": "2cf02624-1e09-4ec1-c3df-d8d492ba5b5a"
      },
      "execution_count": 56,
      "outputs": [
        {
          "output_type": "stream",
          "name": "stdout",
          "text": [
            "0.7542226\n"
          ]
        }
      ]
    },
    {
      "cell_type": "markdown",
      "source": [
        "**Weight initialization**"
      ],
      "metadata": {
        "id": "zhVdje9ULPCQ"
      }
    },
    {
      "cell_type": "code",
      "source": [
        "import torch\n",
        "import torch.nn as nn\n"
      ],
      "metadata": {
        "id": "ArgbdxHMLUQ9"
      },
      "execution_count": 57,
      "outputs": []
    },
    {
      "cell_type": "code",
      "source": [
        "layer = nn.Linear(5,5)\n"
      ],
      "metadata": {
        "id": "k119WO6iLe7R"
      },
      "execution_count": 59,
      "outputs": []
    },
    {
      "cell_type": "code",
      "source": [
        "layer.weight.data"
      ],
      "metadata": {
        "colab": {
          "base_uri": "https://localhost:8080/"
        },
        "id": "59I_IiMqLoL7",
        "outputId": "df9c8f7b-3c1d-424c-c607-24f3ae6ba0d1"
      },
      "execution_count": 61,
      "outputs": [
        {
          "output_type": "execute_result",
          "data": {
            "text/plain": [
              "tensor([[ 0.4273, -0.3493, -0.1255, -0.4063, -0.0689],\n",
              "        [-0.2725, -0.2112,  0.2881,  0.0077, -0.0219],\n",
              "        [-0.2615,  0.2213, -0.2350, -0.1664,  0.1978],\n",
              "        [ 0.1835, -0.1304,  0.1026,  0.0307,  0.1937],\n",
              "        [-0.1510,  0.2295,  0.2222,  0.3997, -0.4417]])"
            ]
          },
          "metadata": {},
          "execution_count": 61
        }
      ]
    },
    {
      "cell_type": "code",
      "source": [
        "nn.init.uniform_(layer.weight.data,a=0,b=3) # equal chance  probability =1/(max-min)"
      ],
      "metadata": {
        "colab": {
          "base_uri": "https://localhost:8080/"
        },
        "id": "IG-nxpNlLtLc",
        "outputId": "69a69ba5-bb06-42c9-9b81-b7dca69bf50c"
      },
      "execution_count": 62,
      "outputs": [
        {
          "output_type": "execute_result",
          "data": {
            "text/plain": [
              "tensor([[1.6088, 1.3230, 2.1245, 1.1926, 0.5779],\n",
              "        [1.1128, 0.8896, 1.7273, 1.3628, 0.0933],\n",
              "        [0.3820, 2.4273, 1.8663, 0.1946, 2.2222],\n",
              "        [1.0877, 2.2663, 0.8122, 2.5647, 0.1156],\n",
              "        [0.4619, 0.8460, 2.5933, 1.0995, 2.3968]])"
            ]
          },
          "metadata": {},
          "execution_count": 62
        }
      ]
    },
    {
      "cell_type": "code",
      "source": [
        "nn.init.normal_(layer.weight,mean=0,std=0.2) # measure height of people or IQ scoresm bell like shape"
      ],
      "metadata": {
        "colab": {
          "base_uri": "https://localhost:8080/"
        },
        "id": "icmhc3blMTIw",
        "outputId": "6d7c5d12-2c73-4088-cb83-7eb7bff83c79"
      },
      "execution_count": 64,
      "outputs": [
        {
          "output_type": "execute_result",
          "data": {
            "text/plain": [
              "Parameter containing:\n",
              "tensor([[ 0.0760, -0.0231, -0.1340,  0.2224, -0.1960],\n",
              "        [-0.1208, -0.0936, -0.0744, -0.3259,  0.0464],\n",
              "        [-0.1588,  0.0450,  0.3368,  0.1408, -0.0979],\n",
              "        [-0.3721,  0.1476, -0.2387, -0.1656, -0.0247],\n",
              "        [ 0.0567,  0.2140, -0.4360, -0.1647, -0.0943]], requires_grad=True)"
            ]
          },
          "metadata": {},
          "execution_count": 64
        }
      ]
    },
    {
      "cell_type": "code",
      "source": [
        "#xavier initialization\n",
        "nn.init.xavier_uniform_(layer.weight)"
      ],
      "metadata": {
        "colab": {
          "base_uri": "https://localhost:8080/"
        },
        "id": "Lz-i-PlFQQGX",
        "outputId": "baa18138-af79-4cd2-eb6a-9fd6fc99e2e6"
      },
      "execution_count": 65,
      "outputs": [
        {
          "output_type": "execute_result",
          "data": {
            "text/plain": [
              "Parameter containing:\n",
              "tensor([[ 0.3899, -0.4328, -0.7066, -0.4597,  0.6958],\n",
              "        [-0.5030, -0.3827, -0.3455, -0.1636,  0.6213],\n",
              "        [ 0.4002,  0.7420,  0.2983, -0.6383,  0.7178],\n",
              "        [ 0.7152, -0.7688, -0.7703, -0.2600, -0.6009],\n",
              "        [-0.4577, -0.1178, -0.7429,  0.1993,  0.5286]], requires_grad=True)"
            ]
          },
          "metadata": {},
          "execution_count": 65
        }
      ]
    },
    {
      "cell_type": "markdown",
      "source": [
        "DATA AUGMENTATION : get different versions of what you have ,apply some transformations of the images of you.And achieve betterperfromance without extra labels"
      ],
      "metadata": {
        "id": "8KdJB9tHRvNl"
      }
    },
    {
      "cell_type": "code",
      "source": [],
      "metadata": {
        "id": "X0fNtCjqR-F8"
      },
      "execution_count": null,
      "outputs": []
    },
    {
      "cell_type": "markdown",
      "source": [
        "MixUp"
      ],
      "metadata": {
        "id": "_u14d3hodU9v"
      }
    }
  ]
}