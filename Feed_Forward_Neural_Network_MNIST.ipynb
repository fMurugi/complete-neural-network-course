{
  "nbformat": 4,
  "nbformat_minor": 0,
  "metadata": {
    "colab": {
      "provenance": [],
      "gpuType": "T4",
      "authorship_tag": "ABX9TyNgvcuPpM6FFyO3rZAIIxpX",
      "include_colab_link": true
    },
    "kernelspec": {
      "name": "python3",
      "display_name": "Python 3"
    },
    "language_info": {
      "name": "python"
    },
    "accelerator": "GPU"
  },
  "cells": [
    {
      "cell_type": "markdown",
      "metadata": {
        "id": "view-in-github",
        "colab_type": "text"
      },
      "source": [
        "<a href=\"https://colab.research.google.com/github/fMurugi/complete-neural-network-course/blob/main/Feed_Forward_Neural_Network_MNIST.ipynb\" target=\"_parent\"><img src=\"https://colab.research.google.com/assets/colab-badge.svg\" alt=\"Open In Colab\"/></a>"
      ]
    },
    {
      "cell_type": "code",
      "execution_count": 21,
      "metadata": {
        "id": "7_EUBODySj9M"
      },
      "outputs": [],
      "source": [
        "import torch\n",
        "import torch.nn as nn\n",
        "import torchvision.datasets as datasets\n",
        "import torchvision.transforms as transforms\n",
        "from torch.autograd import Variable"
      ]
    },
    {
      "cell_type": "code",
      "source": [
        "input_size = 784\n",
        "hidden_size =400\n",
        "out_size = 10\n",
        "epochs = 10\n",
        "batch_size = 100\n",
        "learning_rate = 0.001\n"
      ],
      "metadata": {
        "id": "QtA1TfhIS2o3"
      },
      "execution_count": 22,
      "outputs": []
    },
    {
      "cell_type": "code",
      "source": [
        "train_dataset = datasets.MNIST(root='./data',\n",
        "                               train=True,\n",
        "                               transform=transforms.ToTensor(),\n",
        "                               download=True)\n",
        "\n",
        "test_dataset = datasets.MNIST(root='./data',\n",
        "                              train=False,\n",
        "                              transform=transforms.ToTensor())"
      ],
      "metadata": {
        "id": "H0lVLwF0TEmo"
      },
      "execution_count": 23,
      "outputs": []
    },
    {
      "cell_type": "code",
      "source": [
        "train_loader = torch.utils.data.DataLoader(dataset=train_dataset,\n",
        "                                    batch_size=batch_size,\n",
        "                                    shuffle=True)\n",
        "test_loader = torch.utils.data.DataLoader(dataset=test_dataset,\n",
        "                                          batch_size=batch_size,\n",
        "                                          shuffle=False)"
      ],
      "metadata": {
        "id": "cHaII8U_Zzgx"
      },
      "execution_count": 24,
      "outputs": []
    },
    {
      "cell_type": "code",
      "source": [
        "class Net(nn.Module):\n",
        "  def __init__(self,input_size,hidden_size,out_size):\n",
        "        super(Net,self).__init__()\n",
        "        self.fc1 = nn.Linear(input_size,hidden_size) #firsst layer\n",
        "        self.relu = nn.ReLU() #first layer activation\n",
        "        self.fc2 = nn.Linear(hidden_size,hidden_size) #second layer\n",
        "        self.fc3 = nn.Linear(hidden_size,out_size) #second layer activation\n",
        "\n",
        "  def forward(self,x): #x is data the images turned to tensor\n",
        "        out = self.fc1(x)\n",
        "        out = self.relu(out)\n",
        "        out = self.fc2(out)\n",
        "        out = self.relu(out)\n",
        "        out = self.fc3(out)\n",
        "        return out\n"
      ],
      "metadata": {
        "id": "8H92_yBKaOLT"
      },
      "execution_count": 25,
      "outputs": []
    },
    {
      "cell_type": "code",
      "source": [
        "# create an object of the class, which represents our network\n",
        "net = Net(input_size,hidden_size,out_size)\n",
        "CUDA = torch.cuda.is_available()\n",
        "CUDA\n",
        "if CUDA:\n",
        "  net = net.cuda()\n",
        "# The loss function.The Cross Entropy loss comes along with softmax.Therefore no need to specify softmax\n",
        "criterion = nn.CrossEntropyLoss()\n",
        "optimizer = torch.optim.Adam(net.parameters(), lr=learning_rate)\n"
      ],
      "metadata": {
        "id": "4XjSiCQbdWP3"
      },
      "execution_count": 26,
      "outputs": []
    },
    {
      "cell_type": "code",
      "source": [
        "#train the network\n",
        "correct_train =0\n",
        "total_train = 0\n",
        "for epoch in range(epochs):\n",
        "  for i, (images,labels) in enumerate(train_loader):\n",
        "      images = Variable(images.view(-1,28*28))\n",
        "      labels = Variable(labels)\n",
        "      if CUDA:\n",
        "        images = images.cuda()\n",
        "        labels = labels.cuda()\n",
        "      #clear gradient to avoid accumulation when updatin weight\n",
        "      optimizer.zero_grad()\n",
        "      outputs = net(images)\n",
        "      _,predicted = torch.max(outputs.data,1)\n",
        "      total_train += labels.size(0)\n",
        "      if CUDA:\n",
        "        correct_train += (predicted.cpu() == labels.cpu()).sum()\n",
        "      else:\n",
        "        correct_train += (predicted == labels).sum()\n",
        "      loss = criterion(outputs,labels)\n",
        "      loss.backward()\n",
        "      optimizer.step()\n",
        "      if (i+1)%100 == 0:\n",
        "        print('Epoch [{}/{}], Step [{}/{}], Loss: {:.4f} Training Accuracy:{}:.3f%'.format(\n",
        "            epoch+1,epochs,i+1,len(train_dataset)//batch_size,loss.item(),(100*correct_train/total_train))\n",
        "        )\n",
        "print(\"DONE TRAINING\")\n",
        "\n",
        "\n"
      ],
      "metadata": {
        "colab": {
          "base_uri": "https://localhost:8080/"
        },
        "collapsed": true,
        "id": "m9gmydSgf2xT",
        "outputId": "687e6289-6f60-4dbf-8147-8a59f948126e"
      },
      "execution_count": 28,
      "outputs": [
        {
          "output_type": "stream",
          "name": "stdout",
          "text": [
            "Epoch [1/10], Step [100/600], Loss: 0.2808 Training Accuracy:83.58000183105469%\n",
            "Epoch [1/10], Step [200/600], Loss: 0.1810 Training Accuracy:87.93000030517578%\n",
            "Epoch [1/10], Step [300/600], Loss: 0.2557 Training Accuracy:89.76000213623047%\n",
            "Epoch [1/10], Step [400/600], Loss: 0.0956 Training Accuracy:90.97000122070312%\n",
            "Epoch [1/10], Step [500/600], Loss: 0.1553 Training Accuracy:91.89600372314453%\n",
            "Epoch [1/10], Step [600/600], Loss: 0.0573 Training Accuracy:92.49500274658203%\n",
            "DONE TRAINING\n",
            "Epoch [2/10], Step [100/600], Loss: 0.0855 Training Accuracy:93.105712890625%\n",
            "Epoch [2/10], Step [200/600], Loss: 0.1229 Training Accuracy:93.55374908447266%\n",
            "Epoch [2/10], Step [300/600], Loss: 0.0291 Training Accuracy:93.96333312988281%\n",
            "Epoch [2/10], Step [400/600], Loss: 0.1732 Training Accuracy:94.30799865722656%\n",
            "Epoch [2/10], Step [500/600], Loss: 0.0715 Training Accuracy:94.5654525756836%\n",
            "Epoch [2/10], Step [600/600], Loss: 0.0606 Training Accuracy:94.78250122070312%\n",
            "DONE TRAINING\n",
            "Epoch [3/10], Step [100/600], Loss: 0.0226 Training Accuracy:95.03768920898438%\n",
            "Epoch [3/10], Step [200/600], Loss: 0.1177 Training Accuracy:95.24571228027344%\n",
            "Epoch [3/10], Step [300/600], Loss: 0.0681 Training Accuracy:95.4346694946289%\n",
            "Epoch [3/10], Step [400/600], Loss: 0.0413 Training Accuracy:95.58562469482422%\n",
            "Epoch [3/10], Step [500/600], Loss: 0.0892 Training Accuracy:95.73588562011719%\n",
            "Epoch [3/10], Step [600/600], Loss: 0.0360 Training Accuracy:95.86222076416016%\n",
            "DONE TRAINING\n",
            "Epoch [4/10], Step [100/600], Loss: 0.0150 Training Accuracy:96.02789306640625%\n",
            "Epoch [4/10], Step [200/600], Loss: 0.0730 Training Accuracy:96.15450286865234%\n",
            "Epoch [4/10], Step [300/600], Loss: 0.0557 Training Accuracy:96.27571105957031%\n",
            "Epoch [4/10], Step [400/600], Loss: 0.0432 Training Accuracy:96.37409210205078%\n",
            "Epoch [4/10], Step [500/600], Loss: 0.0362 Training Accuracy:96.47087097167969%\n",
            "Epoch [4/10], Step [600/600], Loss: 0.0477 Training Accuracy:96.55500030517578%\n",
            "DONE TRAINING\n",
            "Epoch [5/10], Step [100/600], Loss: 0.0115 Training Accuracy:96.6531982421875%\n",
            "Epoch [5/10], Step [200/600], Loss: 0.0144 Training Accuracy:96.74269104003906%\n",
            "Epoch [5/10], Step [300/600], Loss: 0.0224 Training Accuracy:96.81777954101562%\n",
            "Epoch [5/10], Step [400/600], Loss: 0.0048 Training Accuracy:96.90142822265625%\n",
            "Epoch [5/10], Step [500/600], Loss: 0.0279 Training Accuracy:96.97068786621094%\n",
            "Epoch [5/10], Step [600/600], Loss: 0.0414 Training Accuracy:97.02933502197266%\n",
            "DONE TRAINING\n",
            "Epoch [6/10], Step [100/600], Loss: 0.0234 Training Accuracy:97.10225677490234%\n",
            "Epoch [6/10], Step [200/600], Loss: 0.0192 Training Accuracy:97.17469024658203%\n",
            "Epoch [6/10], Step [300/600], Loss: 0.0128 Training Accuracy:97.2381820678711%\n",
            "Epoch [6/10], Step [400/600], Loss: 0.0293 Training Accuracy:97.29617309570312%\n",
            "Epoch [6/10], Step [500/600], Loss: 0.0147 Training Accuracy:97.3414306640625%\n",
            "Epoch [6/10], Step [600/600], Loss: 0.0440 Training Accuracy:97.38138580322266%\n",
            "DONE TRAINING\n",
            "Epoch [7/10], Step [100/600], Loss: 0.0109 Training Accuracy:97.43378448486328%\n",
            "Epoch [7/10], Step [200/600], Loss: 0.0221 Training Accuracy:97.4868392944336%\n",
            "Epoch [7/10], Step [300/600], Loss: 0.0128 Training Accuracy:97.53410339355469%\n",
            "Epoch [7/10], Step [400/600], Loss: 0.0777 Training Accuracy:97.57424926757812%\n",
            "Epoch [7/10], Step [500/600], Loss: 0.0701 Training Accuracy:97.61829376220703%\n",
            "Epoch [7/10], Step [600/600], Loss: 0.0457 Training Accuracy:97.65666961669922%\n",
            "DONE TRAINING\n",
            "Epoch [8/10], Step [100/600], Loss: 0.0015 Training Accuracy:97.69395446777344%\n",
            "Epoch [8/10], Step [200/600], Loss: 0.0349 Training Accuracy:97.73272705078125%\n",
            "Epoch [8/10], Step [300/600], Loss: 0.0102 Training Accuracy:97.76889038085938%\n",
            "Epoch [8/10], Step [400/600], Loss: 0.0110 Training Accuracy:97.80564880371094%\n",
            "Epoch [8/10], Step [500/600], Loss: 0.0382 Training Accuracy:97.83553314208984%\n",
            "Epoch [8/10], Step [600/600], Loss: 0.0161 Training Accuracy:97.866455078125%\n",
            "DONE TRAINING\n",
            "Epoch [9/10], Step [100/600], Loss: 0.0010 Training Accuracy:97.90142822265625%\n",
            "Epoch [9/10], Step [200/600], Loss: 0.0101 Training Accuracy:97.9352035522461%\n",
            "Epoch [9/10], Step [300/600], Loss: 0.0005 Training Accuracy:97.96941375732422%\n",
            "Epoch [9/10], Step [400/600], Loss: 0.0058 Training Accuracy:98.00057983398438%\n",
            "Epoch [9/10], Step [500/600], Loss: 0.0011 Training Accuracy:98.02339935302734%\n",
            "Epoch [9/10], Step [600/600], Loss: 0.0260 Training Accuracy:98.0433349609375%\n",
            "DONE TRAINING\n",
            "Epoch [10/10], Step [100/600], Loss: 0.0127 Training Accuracy:98.07127380371094%\n",
            "Epoch [10/10], Step [200/600], Loss: 0.0013 Training Accuracy:98.10035705566406%\n",
            "Epoch [10/10], Step [300/600], Loss: 0.1345 Training Accuracy:98.12543487548828%\n",
            "Epoch [10/10], Step [400/600], Loss: 0.0433 Training Accuracy:98.14913940429688%\n",
            "Epoch [10/10], Step [500/600], Loss: 0.0476 Training Accuracy:98.1644058227539%\n",
            "Epoch [10/10], Step [600/600], Loss: 0.0225 Training Accuracy:98.18350219726562%\n",
            "DONE TRAINING\n"
          ]
        }
      ]
    },
    {
      "cell_type": "code",
      "source": [
        "#test the network (No loss calculation and no weight update)\n",
        "correct =0\n",
        "total = 0\n",
        "for images,labels in test_loader:\n",
        "  images = Variable(images.view(-1,28*28))\n",
        "  if CUDA:\n",
        "    images = images.cuda()\n",
        "  outputs = net(images)\n",
        "  _,predicted = torch.max(outputs.data,1)\n",
        "  total += labels.size(0)\n",
        "  if CUDA:\n",
        "    correct += (predicted.cpu() == labels.cpu()).sum()\n",
        "  else:\n",
        "    correct += (predicted == labels).sum()\n",
        "print('Accuracy of the network: {} %'.format(100 * correct / total))\n"
      ],
      "metadata": {
        "colab": {
          "base_uri": "https://localhost:8080/"
        },
        "id": "YFaboXoipjg9",
        "outputId": "4ade4166-483c-4ae5-ceb7-bb407873fb18"
      },
      "execution_count": 29,
      "outputs": [
        {
          "output_type": "stream",
          "name": "stdout",
          "text": [
            "Accuracy of the network: 97.88999938964844 %\n"
          ]
        }
      ]
    }
  ]
}